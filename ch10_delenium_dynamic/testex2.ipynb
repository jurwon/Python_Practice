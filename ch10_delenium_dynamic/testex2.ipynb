{
 "cells": [
  {
   "cell_type": "code",
   "execution_count": 11,
   "metadata": {},
   "outputs": [
    {
     "name": "stdout",
     "output_type": "stream",
     "text": [
      "target타입 조사 : <class 'selenium.webdriver.remote.webelement.WebElement'>\n"
     ]
    }
   ],
   "source": [
    "from selenium import webdriver\n",
    "from selenium.webdriver.common.by import By\n",
    "import time\n",
    "driver = webdriver.Chrome()\n",
    "#드라이버 연결 부분이 변경됨\n",
    "\n",
    "#pdf p17 예제 확인\n",
    "#작업 1) 구글 검색창에서 파이썬 검색\n",
    "\n",
    "driver.get('https://google.com/ncr')\n",
    "# all_videos = driver.find_elements(By.ID, \"dismissible\")\n",
    "# print(all_videos)\n",
    "\n",
    "#문법 변경\n",
    "#구글 검색창 이름이 q\n",
    "target = driver.find_element(By.NAME,\"q\") \n",
    "print(f\"target타입 조사 : {type(target)}\")\n",
    "#검색 키워드 (여러개 뽑아낸다면 :send_keys , 하나 뽑으면 : send_key)\n",
    "target.send_keys(\"파이썬\") \n",
    "target.submit()\n",
    "\n",
    "\n",
    "#작업 2) \n",
    "\n",
    "#1번째 링크\n",
    "#<h3 class=\"LC20lb MBeuO DKV0Md\">Welcome to Python.org</h3>\n",
    "#2번째 링크\n",
    "#<h3 class=\"LC20lb MBeuO DKV0Md\">Python - 파이썬</h3>\n",
    "\n",
    "#공통점 찾음 ->  class=\"LC20lb MBeuO DKV0Md\"\n",
    "#검색 결과 링크 목록화\n",
    "# 여러개 요소 잡기. \n",
    "# link_elements2 = driver.find_elements(By.CSS_SELECTOR,\".LC20lb\")\n",
    "# print(f\"link_elements2 : {link_elements2}\")\n",
    "\n",
    "# 한개 요소로는 잡힘\n",
    "link_element = driver.find_element(By.CSS_SELECTOR,\".LC20lb\")\n",
    "print(f\"link_element : {link_element}\")\n",
    "\n",
    "#공식 문서 사이트 접속 확인\n",
    "link_element.click()\n",
    "\n",
    "\n",
    "\n",
    "\n",
    "time.sleep(2)\n",
    "datas = []"
   ]
  }
 ],
 "metadata": {
  "kernelspec": {
   "display_name": "Python 3",
   "language": "python",
   "name": "python3"
  },
  "language_info": {
   "codemirror_mode": {
    "name": "ipython",
    "version": 3
   },
   "file_extension": ".py",
   "mimetype": "text/x-python",
   "name": "python",
   "nbconvert_exporter": "python",
   "pygments_lexer": "ipython3",
   "version": "3.12.0"
  }
 },
 "nbformat": 4,
 "nbformat_minor": 2
}
