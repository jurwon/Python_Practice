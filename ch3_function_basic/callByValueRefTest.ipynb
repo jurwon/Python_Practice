{
 "cells": [
  {
   "cell_type": "code",
   "execution_count": 2,
   "metadata": {},
   "outputs": [
    {
     "name": "stdout",
     "output_type": "stream",
     "text": [
      "함수 내부의 y값 : 3\n",
      "func1 (x)값 조회 : 9\n",
      "함수 호출 후 x값 조회 : 3\n"
     ]
    }
   ],
   "source": [
    "#call by value\n",
    "def func1(x): #함수의 매개변수 x정의\n",
    "  y=x #y는 지역변수, 함수\n",
    "  print(f\"함수 내부의 y값 : {y}\")\n",
    "  x=5\n",
    "  return y*y\n",
    "\n",
    "#전역변수\n",
    "x=3\n",
    "print(f\"func1 (x)값 조회 : {func1(x)}\")\n",
    "print(f\"함수 호출 후 x값 조회 : {x}\")"
   ]
  },
  {
   "cell_type": "code",
   "execution_count": 6,
   "metadata": {},
   "outputs": [
    {
     "name": "stdout",
     "output_type": "stream",
     "text": [
      "함수 호출시 list = [2,3] 후 출력\n",
      "list2출력해보기 : [0, 1]\n"
     ]
    }
   ],
   "source": [
    "#call by ref\n",
    "def test(list):#list매개변수\n",
    "  #여기까지가 전달받은 list의 메모리 주소\n",
    "  list.append(1) \n",
    "  #여기부터 새로운 list의 메모리주소\n",
    "  list=[2,3] #지역변수 (사라짐)\n",
    "  print(f\"함수 호출시 list = [2,3] 후 출력\")\n",
    "\n",
    "#전역,리스트\n",
    "list2 = [0]\n",
    "test(list2)\n",
    "print(f\"list2출력해보기 : {list2}\")"
   ]
  },
  {
   "cell_type": "code",
   "execution_count": 5,
   "metadata": {},
   "outputs": [
    {
     "name": "stdout",
     "output_type": "stream",
     "text": [
      "함수 내부 출력 s : hi sjw\n",
      "함수 외부 s 출력 : hi sjw\n"
     ]
    }
   ],
   "source": [
    "#global\n",
    "\n",
    "def f():\n",
    "  global s\n",
    "  s = \"hi sjw\"\n",
    "  print(f\"함수 내부 출력 s : {s}\")\n",
    "\n",
    "#전역\n",
    "s = \"hello sjw\"\n",
    "#함수 호출 후 함수 내부에 global키워드 사용하여 전역처럼 사용\n",
    "f()\n",
    "print(f\"함수 외부 s 출력 : {s}\")"
   ]
  },
  {
   "cell_type": "code",
   "execution_count": 7,
   "metadata": {},
   "outputs": [
    {
     "name": "stdout",
     "output_type": "stream",
     "text": [
      "A(1,2)의 결과 : 3\n",
      "A(1,2,3,4,5)의 결과 : 15\n"
     ]
    }
   ],
   "source": [
    "#가변 변수, *표기\n",
    "def A(a,b,*args):\n",
    "  return a+b+sum(args)\n",
    "\n",
    "print(f\"A(1,2)의 결과 : {A(1,2)}\")\n",
    "print(f\"A(1,2,3,4,5)의 결과 : {A(1,2,3,4,5)}\")"
   ]
  }
 ],
 "metadata": {
  "kernelspec": {
   "display_name": "Python 3",
   "language": "python",
   "name": "python3"
  },
  "language_info": {
   "codemirror_mode": {
    "name": "ipython",
    "version": 3
   },
   "file_extension": ".py",
   "mimetype": "text/x-python",
   "name": "python",
   "nbconvert_exporter": "python",
   "pygments_lexer": "ipython3",
   "version": "3.12.0"
  }
 },
 "nbformat": 4,
 "nbformat_minor": 2
}
