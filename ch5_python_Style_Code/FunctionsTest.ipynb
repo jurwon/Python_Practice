{
 "cells": [
  {
   "cell_type": "code",
   "execution_count": 1,
   "metadata": {},
   "outputs": [
    {
     "name": "stdout",
     "output_type": "stream",
     "text": [
      "result join 이후 : red!!blue!!green!!yellow\n"
     ]
    }
   ],
   "source": [
    "#join함수\n",
    "colors = ['red','blue','green','yellow']\n",
    "#\"\"안에 문자,공백 등등 넣기\n",
    "result = \"!!\".join(colors)\n",
    "print(f\"result join 이후 : {result}\")"
   ]
  },
  {
   "cell_type": "code",
   "execution_count": 3,
   "metadata": {},
   "outputs": [
    {
     "name": "stdout",
     "output_type": "stream",
     "text": [
      "결과 : ['abc', 'def', '123', '456', '777']\n",
      "결과 : ['abc', 'def', '123', '456', '777']\n"
     ]
    }
   ],
   "source": [
    "#split함수\n",
    "items = \"abc def 123 456 777\"\n",
    "result = items.split()\n",
    "print(f\"결과 : {result}\")\n",
    "\n",
    "items2 = \"abc,def,123,456,777\"\n",
    "result2 = items2.split(\",\")\n",
    "print(f\"결과 : {result2}\")"
   ]
  }
 ],
 "metadata": {
  "kernelspec": {
   "display_name": "Python 3",
   "language": "python",
   "name": "python3"
  },
  "language_info": {
   "codemirror_mode": {
    "name": "ipython",
    "version": 3
   },
   "file_extension": ".py",
   "mimetype": "text/x-python",
   "name": "python",
   "nbconvert_exporter": "python",
   "pygments_lexer": "ipython3",
   "version": "3.12.0"
  }
 },
 "nbformat": 4,
 "nbformat_minor": 2
}
