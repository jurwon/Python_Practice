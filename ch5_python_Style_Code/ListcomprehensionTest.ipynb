{
 "cells": [
  {
   "cell_type": "code",
   "execution_count": 2,
   "metadata": {},
   "outputs": [
    {
     "name": "stdout",
     "output_type": "stream",
     "text": [
      "일반 list : [0, 1, 2, 3, 4, 5, 6, 7, 8, 9]\n",
      "listcomprehension : [0, 1, 2, 3, 4, 5, 6, 7, 8, 9]\n"
     ]
    }
   ],
   "source": [
    "#일반 list\n",
    "result = []\n",
    "for i in range(10):\n",
    "  result.append(i)\n",
    "print(f\"일반 list : {result}\")\n",
    "\n",
    "#listcomprehension\n",
    "result = [i for i in range(10)]\n",
    "print(f\"listcomprehension : {result}\")"
   ]
  },
  {
   "cell_type": "code",
   "execution_count": 10,
   "metadata": {},
   "outputs": [
    {
     "name": "stdout",
     "output_type": "stream",
     "text": [
      "result(i%2==0) : [0, 2, 4]\n",
      "result : [0, 10, 2, 10, 4, 10, 6, 10, 8, 10]\n"
     ]
    }
   ],
   "source": [
    "#filtering 1\n",
    "reuslt = [i for i in range(10) if i % 2 == 0]\n",
    "print(f\"result(i%2==0) : {result}\")\n",
    "\n",
    "#filtering2\n",
    "#조건을 만족하지 않을 때 else뒤에 i의 값 할당\n",
    "result = [i if i%2==0 else 10 for i in range(10)]\n",
    "print(f\"result : {result}\")"
   ]
  },
  {
   "cell_type": "code",
   "execution_count": 16,
   "metadata": {},
   "outputs": [
    {
     "name": "stdout",
     "output_type": "stream",
     "text": [
      "result : ['aㄱ', 'aㄴ', 'aㄷ', 'bㄱ', 'bㄴ', 'bㄷ', 'cㄱ', 'cㄴ', 'cㄷ']\n"
     ]
    }
   ],
   "source": [
    "#중첩 반복문\n",
    "test1 = \"abc\"\n",
    "test2 = \"ㄱㄴㄷ\"\n",
    "result = [i + j for i in test1 for j in test2]\n",
    "print(f\"result : {result}\")"
   ]
  },
  {
   "cell_type": "code",
   "execution_count": 18,
   "metadata": {},
   "outputs": [
    {
     "name": "stdout",
     "output_type": "stream",
     "text": [
      "result : ['ac', 'ab', 'ab', 'bc', 'cb', 'cb']\n"
     ]
    }
   ],
   "source": [
    "#중첩 반복문 filter\n",
    "test1 = [\"a\",\"b\",\"c\"]\n",
    "test2 = [\"c\",\"b\",\"b\"]\n",
    "result = [i+j for i in test1 for j in test2 if not(i==j)]\n",
    "print(f\"result : {result}\")"
   ]
  },
  {
   "cell_type": "code",
   "execution_count": 20,
   "metadata": {},
   "outputs": [
    {
     "name": "stdout",
     "output_type": "stream",
     "text": [
      "result : [['aㄱ', 'bㄱ', 'cㄱ'], ['aㄴ', 'bㄴ', 'cㄴ'], ['aㄷ', 'bㄷ', 'cㄷ']]\n"
     ]
    }
   ],
   "source": [
    "#이차원 리스트\n",
    "test1 = [\"a\",\"b\",\"c\"]\n",
    "test2 = [\"ㄱ\",\"ㄴ\",\"ㄷ\"]\n",
    "result = [[i+j for i in test1] for j in test2]\n",
    "print(f\"result : {result}\")"
   ]
  }
 ],
 "metadata": {
  "kernelspec": {
   "display_name": "Python 3",
   "language": "python",
   "name": "python3"
  },
  "language_info": {
   "codemirror_mode": {
    "name": "ipython",
    "version": 3
   },
   "file_extension": ".py",
   "mimetype": "text/x-python",
   "name": "python",
   "nbconvert_exporter": "python",
   "pygments_lexer": "ipython3",
   "version": "3.12.0"
  }
 },
 "nbformat": 4,
 "nbformat_minor": 2
}
