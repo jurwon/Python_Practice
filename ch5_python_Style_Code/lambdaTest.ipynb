{
 "cells": [
  {
   "cell_type": "code",
   "execution_count": 4,
   "metadata": {},
   "outputs": [
    {
     "name": "stdout",
     "output_type": "stream",
     "text": [
      "5\n"
     ]
    }
   ],
   "source": [
    "#일반 함수\n",
    "# def f(x,y):\n",
    "#   return x+y\n",
    "\n",
    "#lambda함수\n",
    "f = lambda x,y : x+y\n",
    "\n",
    "print(f(1,4))"
   ]
  },
  {
   "cell_type": "code",
   "execution_count": 6,
   "metadata": {},
   "outputs": [
    {
     "name": "stdout",
     "output_type": "stream",
     "text": [
      "1 {'b': 2, 'c': 3, 'd': 4, 'e': 5, 'f': 6}\n",
      "<class 'dict'>\n",
      "1 1 2 3 4 5 6\n",
      "<class 'tuple'>\n",
      "1 (2, 3, 4, 5, 6)\n",
      "<class 'tuple'>\n"
     ]
    }
   ],
   "source": [
    "#별표 활용1 (** : 딕셔너리 언패킹)\n",
    "def asterisk_test(a,**args):\n",
    "  print(a,args)\n",
    "  print(type(args))\n",
    "\n",
    "asterisk_test(1, b=2,c=3,d=4,e=5,f=6)\n",
    "\n",
    "#별표 활용2-1(언패킹)\n",
    "#튜플인데 (1,2,3)형태가 아닌 1,2,3으로 출력됨\n",
    "# *args 때문. -> 해당 변수 언패킹\n",
    "def asterisk_test2(a,args):\n",
    "  print(a,*args)\n",
    "  print(type(args))\n",
    "\n",
    "asterisk_test2(1,(1,2,3,4,5,6))\n",
    "\n",
    "#별표 활용2-2(언패킹)\n",
    "def asterisk_test3(a,*args):\n",
    "  print(a,args)\n",
    "  print(type(args))\n",
    "\n",
    "asterisk_test3(1,*(2,3,4,5,6))\n"
   ]
  },
  {
   "cell_type": "code",
   "execution_count": 5,
   "metadata": {},
   "outputs": [
    {
     "name": "stdout",
     "output_type": "stream",
     "text": [
      "[1, 2] [3, 4] [5, 6]\n",
      "10 1 2 3\n"
     ]
    }
   ],
   "source": [
    "#언패킹 활용1 (* : 튜플)\n",
    "data = ([1,2],[3,4],[5,6])\n",
    "print(*data)\n",
    "\n",
    "\n",
    "#언패킹 활용2 (** : 딕셔너리)\n",
    "def asterisk_test(a,b,c,d):\n",
    "  print(a,b,c,d)\n",
    "\n",
    "data = {\"b\":1,\"c\":2,\"d\":3}\n",
    "asterisk_test(10,**data)"
   ]
  }
 ],
 "metadata": {
  "kernelspec": {
   "display_name": "Python 3",
   "language": "python",
   "name": "python3"
  },
  "language_info": {
   "codemirror_mode": {
    "name": "ipython",
    "version": 3
   },
   "file_extension": ".py",
   "mimetype": "text/x-python",
   "name": "python",
   "nbconvert_exporter": "python",
   "pygments_lexer": "ipython3",
   "version": "3.12.0"
  }
 },
 "nbformat": 4,
 "nbformat_minor": 2
}
