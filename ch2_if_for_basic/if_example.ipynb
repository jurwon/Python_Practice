{
 "cells": [
  {
   "cell_type": "code",
   "execution_count": 9,
   "metadata": {},
   "outputs": [
    {
     "name": "stdout",
     "output_type": "stream",
     "text": [
      "num1이 100보다 크다.\n"
     ]
    }
   ],
   "source": [
    "#if문 ,elif, else\n",
    "num1 = int(input('원하는 숫자를 입력해주세요 : '))\n",
    "\n",
    "if num1 > 100:\n",
    "  print(f\"num1이 100보다 크다.\")\n",
    "elif num1 >=100 and num1 < 200:\n",
    "  print(f\"num1이 100보다 크거나 같고, 200보다 작다.\")\n",
    "else:\n",
    "  print(f\"num1이 100보다 작다\")"
   ]
  }
 ],
 "metadata": {
  "kernelspec": {
   "display_name": "Python 3",
   "language": "python",
   "name": "python3"
  },
  "language_info": {
   "codemirror_mode": {
    "name": "ipython",
    "version": 3
   },
   "file_extension": ".py",
   "mimetype": "text/x-python",
   "name": "python",
   "nbconvert_exporter": "python",
   "pygments_lexer": "ipython3",
   "version": "3.12.0"
  }
 },
 "nbformat": 4,
 "nbformat_minor": 2
}
