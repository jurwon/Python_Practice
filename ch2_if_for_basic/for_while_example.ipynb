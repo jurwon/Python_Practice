{
 "cells": [
  {
   "cell_type": "code",
   "execution_count": 1,
   "metadata": {},
   "outputs": [
    {
     "name": "stdout",
     "output_type": "stream",
     "text": [
      "hi : no : 1\n",
      "hi : no : 2\n",
      "hi : no : 3\n",
      "hi : no : 4\n",
      "hi : no : 5\n",
      "hi : no : 6\n",
      "hi : no : 7\n",
      "hi : no : 8\n"
     ]
    }
   ],
   "source": [
    "#기본 for, 리스트 버전\n",
    "for i in [1,2,3,4,5,6,7,8]:\n",
    "  print(f\"num : {i}\")"
   ]
  },
  {
   "cell_type": "code",
   "execution_count": 2,
   "metadata": {},
   "outputs": [
    {
     "name": "stdout",
     "output_type": "stream",
     "text": [
      "num : 1\n",
      "num : 2\n",
      "num : 3\n",
      "num : 4\n"
     ]
    }
   ],
   "source": [
    "#range(시작값, 끝값, 증가값), 기본, 끝값 미포함, 증가값:1\n",
    "for i in range(1,5):\n",
    "  print(f\"num : {i}\")"
   ]
  },
  {
   "cell_type": "code",
   "execution_count": 6,
   "metadata": {},
   "outputs": [
    {
     "name": "stdout",
     "output_type": "stream",
     "text": [
      "num : 10\n",
      "num : 9\n",
      "num : 8\n",
      "num : 7\n",
      "num : 6\n",
      "num : 5\n",
      "num : 4\n",
      "num : 3\n",
      "num : 2\n"
     ]
    }
   ],
   "source": [
    "#range(끝값, 시작값, 감소값), 기본, 시작값 미포함, 감소값:-1\n",
    "for i in range(10,1,-1):\n",
    "  print(f\"num : {i}\")"
   ]
  },
  {
   "cell_type": "code",
   "execution_count": 9,
   "metadata": {},
   "outputs": [
    {
     "name": "stdout",
     "output_type": "stream",
     "text": [
      "num : 1\n",
      "num : 2\n",
      "num : 3\n",
      "num : 4\n",
      "num : 5\n",
      "num : 6\n",
      "num : 7\n",
      "num : 8\n",
      "num : 9\n"
     ]
    }
   ],
   "source": [
    "#while\n",
    "i=1\n",
    "while i < 10:\n",
    "  print(f\"num : {i}\")\n",
    "  i = i+1"
   ]
  },
  {
   "cell_type": "code",
   "execution_count": 1,
   "metadata": {},
   "outputs": [
    {
     "name": "stdout",
     "output_type": "stream",
     "text": [
      "0\n",
      "1\n",
      "2\n",
      "3\n",
      "4\n",
      "반복문 빠져나옴\n"
     ]
    }
   ],
   "source": [
    "#break\n",
    "#continue\n",
    "for i in range(10):\n",
    "  if i==5:\n",
    "    break\n",
    "  print(i)\n",
    "print(\"반복문 빠져나옴\")"
   ]
  },
  {
   "cell_type": "code",
   "execution_count": 2,
   "metadata": {},
   "outputs": [
    {
     "name": "stdout",
     "output_type": "stream",
     "text": [
      "hap : 1, i : 1\n",
      "hap : 3, i : 2\n",
      "hap : 7, i : 4\n",
      "hap : 12, i : 5\n",
      "hap : 19, i : 7\n",
      "hap : 27, i : 8\n",
      "hap : 37, i : 10\n",
      "hap : 48, i : 11\n",
      "hap : 61, i : 13\n",
      "hap : 75, i : 14\n",
      "hap : 91, i : 16\n",
      "hap : 108, i : 17\n",
      "hap : 127, i : 19\n",
      "hap : 147, i : 20\n",
      "hap : 169, i : 22\n",
      "hap : 192, i : 23\n",
      "hap : 217, i : 25\n",
      "hap : 243, i : 26\n",
      "hap : 271, i : 28\n",
      "hap : 300, i : 29\n",
      "hap : 331, i : 31\n",
      "hap : 363, i : 32\n",
      "hap : 397, i : 34\n",
      "hap : 432, i : 35\n",
      "hap : 469, i : 37\n",
      "hap : 507, i : 38\n",
      "hap : 547, i : 40\n",
      "hap : 588, i : 41\n",
      "hap : 631, i : 43\n",
      "hap : 675, i : 44\n",
      "hap : 721, i : 46\n",
      "hap : 768, i : 47\n",
      "hap : 817, i : 49\n",
      "hap : 867, i : 50\n",
      "hap : 919, i : 52\n",
      "hap : 972, i : 53\n",
      "hap : 1027, i : 55\n",
      "hap : 1083, i : 56\n",
      "hap : 1141, i : 58\n",
      "hap : 1200, i : 59\n",
      "hap : 1261, i : 61\n",
      "hap : 1323, i : 62\n",
      "hap : 1387, i : 64\n",
      "hap : 1452, i : 65\n",
      "hap : 1519, i : 67\n",
      "hap : 1587, i : 68\n",
      "hap : 1657, i : 70\n",
      "hap : 1728, i : 71\n",
      "hap : 1801, i : 73\n",
      "hap : 1875, i : 74\n",
      "hap : 1951, i : 76\n",
      "hap : 2028, i : 77\n",
      "hap : 2107, i : 79\n",
      "hap : 2187, i : 80\n",
      "hap : 2269, i : 82\n",
      "hap : 2352, i : 83\n",
      "hap : 2437, i : 85\n",
      "hap : 2523, i : 86\n",
      "hap : 2611, i : 88\n",
      "hap : 2700, i : 89\n",
      "hap : 2791, i : 91\n",
      "hap : 2883, i : 92\n",
      "hap : 2977, i : 94\n",
      "hap : 3072, i : 95\n",
      "hap : 3169, i : 97\n",
      "hap : 3267, i : 98\n",
      "hap : 3367, i : 100\n",
      "실행 결과 hap : 3367\n"
     ]
    }
   ],
   "source": [
    "#1~100까지 수 중에서 3의 배수만 제외하고 합계\n",
    "hap, i =0,0\n",
    "for i in range(1,101):\n",
    "  if(i%3 ==0):\n",
    "    continue\n",
    "  hap = hap+i\n",
    "  print(f\"hap : {hap}, i : {i}\")\n",
    "\n",
    "print(f\"실행 결과 hap : {hap}\")"
   ]
  },
  {
   "cell_type": "code",
   "execution_count": 3,
   "metadata": {},
   "outputs": [
    {
     "name": "stdout",
     "output_type": "stream",
     "text": [
      "문자열 거꾸로 출력 wjs ih\n"
     ]
    }
   ],
   "source": [
    "#문자열 내용 역순 출력\n",
    "str = \"hi sjw\"\n",
    "reverseStr = \"\"\n",
    "for char in str:\n",
    "  reverseStr = char + reverseStr\n",
    "print(f\"문자열 거꾸로 출력 {reverseStr}\")"
   ]
  }
 ],
 "metadata": {
  "kernelspec": {
   "display_name": "Python 3",
   "language": "python",
   "name": "python3"
  },
  "language_info": {
   "codemirror_mode": {
    "name": "ipython",
    "version": 3
   },
   "file_extension": ".py",
   "mimetype": "text/x-python",
   "name": "python",
   "nbconvert_exporter": "python",
   "pygments_lexer": "ipython3",
   "version": "3.12.0"
  }
 },
 "nbformat": 4,
 "nbformat_minor": 2
}
