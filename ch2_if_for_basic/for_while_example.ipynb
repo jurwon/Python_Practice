{
 "cells": [
  {
   "cell_type": "code",
   "execution_count": 1,
   "metadata": {},
   "outputs": [
    {
     "name": "stdout",
     "output_type": "stream",
     "text": [
      "hi : no : 1\n",
      "hi : no : 2\n",
      "hi : no : 3\n",
      "hi : no : 4\n",
      "hi : no : 5\n",
      "hi : no : 6\n",
      "hi : no : 7\n",
      "hi : no : 8\n"
     ]
    }
   ],
   "source": [
    "#기본 for, 리스트 버전\n",
    "for i in [1,2,3,4,5,6,7,8]:\n",
    "  print(f\"num : {i}\")"
   ]
  },
  {
   "cell_type": "code",
   "execution_count": 2,
   "metadata": {},
   "outputs": [
    {
     "name": "stdout",
     "output_type": "stream",
     "text": [
      "num : 1\n",
      "num : 2\n",
      "num : 3\n",
      "num : 4\n"
     ]
    }
   ],
   "source": [
    "#range(시작값, 끝값, 증가값), 기본, 끝값 미포함, 증가값:1\n",
    "for i in range(1,5):\n",
    "  print(f\"num : {i}\")"
   ]
  },
  {
   "cell_type": "code",
   "execution_count": 6,
   "metadata": {},
   "outputs": [
    {
     "name": "stdout",
     "output_type": "stream",
     "text": [
      "num : 10\n",
      "num : 9\n",
      "num : 8\n",
      "num : 7\n",
      "num : 6\n",
      "num : 5\n",
      "num : 4\n",
      "num : 3\n",
      "num : 2\n"
     ]
    }
   ],
   "source": [
    "#range(끝값, 시작값, 감소값), 기본, 시작값 미포함, 감소값:-1\n",
    "for i in range(10,1,-1):\n",
    "  print(f\"num : {i}\")"
   ]
  },
  {
   "cell_type": "code",
   "execution_count": 9,
   "metadata": {},
   "outputs": [
    {
     "name": "stdout",
     "output_type": "stream",
     "text": [
      "num : 1\n",
      "num : 2\n",
      "num : 3\n",
      "num : 4\n",
      "num : 5\n",
      "num : 6\n",
      "num : 7\n",
      "num : 8\n",
      "num : 9\n"
     ]
    }
   ],
   "source": [
    "#while\n",
    "i=1\n",
    "while i < 10:\n",
    "  print(f\"num : {i}\")\n",
    "  i = i+1"
   ]
  },
  {
   "cell_type": "code",
   "execution_count": null,
   "metadata": {},
   "outputs": [],
   "source": [
    "#break\n",
    "#continue\n",
    "for i in range(10):\n",
    "  if i==5:\n",
    "    break\n",
    "  print(i)\n",
    "print(\"반복문 빠져나옴\")"
   ]
  }
 ],
 "metadata": {
  "kernelspec": {
   "display_name": "Python 3",
   "language": "python",
   "name": "python3"
  },
  "language_info": {
   "codemirror_mode": {
    "name": "ipython",
    "version": 3
   },
   "file_extension": ".py",
   "mimetype": "text/x-python",
   "name": "python",
   "nbconvert_exporter": "python",
   "pygments_lexer": "ipython3",
   "version": "3.12.0"
  }
 },
 "nbformat": 4,
 "nbformat_minor": 2
}
