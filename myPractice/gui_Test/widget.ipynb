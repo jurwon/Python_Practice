{
 "cells": [
  {
   "cell_type": "code",
   "execution_count": 2,
   "metadata": {},
   "outputs": [],
   "source": [
    "# tkinter: 파이썬 표준 GUI 모듈 제공 윈도 라이브러리\n",
    "from tkinter import *\n",
    "\n",
    "# 기본 윈도우 반환\n",
    "window = Tk()\n",
    "\n",
    "# 이 자리에 화면 구성, 처리 코드 작성\n",
    "window.title(\"윈도우창 연습\")  # 제목\n",
    "window.geometry(\"500x400\")  # 크기 지정\n",
    "window.resizable(width=FALSE, height=FALSE)  # 크기 고정\n",
    "\n",
    "# 키보드, 마우스 등 이벤트 처리\n",
    "window.mainloop()\n"
   ]
  },
  {
   "cell_type": "code",
   "execution_count": 5,
   "metadata": {},
   "outputs": [],
   "source": [
    "#레이블 \n",
    "from tkinter import *\n",
    "window = Tk()\n",
    "\n",
    "window.title(\"윈도우창 연습\") \n",
    "window.geometry(\"500x400\")\n",
    "window.resizable(width=FALSE, height=FALSE)\n",
    "\n",
    "label1 = Label(window, text=\"COOKBOOK,데이터 분석을\")\n",
    "label2 = Label(window, text=\"열심히\",font=(\"궁서체\",30),fg=\"blue\")\n",
    "label3 = Label(window, text=\"공부 중입니다.\",bg=\"magenta\",\\\n",
    "               width=20,height=5,anchor=SE)\n",
    "\n",
    "label1.pack()\n",
    "label2.pack()\n",
    "label3.pack()\n",
    "\n",
    "\n",
    "\n",
    "window.mainloop()"
   ]
  },
  {
   "cell_type": "code",
   "execution_count": null,
   "metadata": {},
   "outputs": [],
   "source": [
    "#이미지 삽입\n"
   ]
  }
 ],
 "metadata": {
  "kernelspec": {
   "display_name": "Python 3",
   "language": "python",
   "name": "python3"
  },
  "language_info": {
   "codemirror_mode": {
    "name": "ipython",
    "version": 3
   },
   "file_extension": ".py",
   "mimetype": "text/x-python",
   "name": "python",
   "nbconvert_exporter": "python",
   "pygments_lexer": "ipython3",
   "version": "3.12.0"
  }
 },
 "nbformat": 4,
 "nbformat_minor": 2
}
