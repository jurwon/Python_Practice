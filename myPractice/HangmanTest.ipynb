{
 "cells": [
  {
   "cell_type": "code",
   "execution_count": 1,
   "metadata": {},
   "outputs": [
    {
     "ename": "AttributeError",
     "evalue": "'str' object has no attribute 'toLowerCase'",
     "output_type": "error",
     "traceback": [
      "\u001b[1;31m---------------------------------------------------------------------------\u001b[0m",
      "\u001b[1;31mAttributeError\u001b[0m                            Traceback (most recent call last)",
      "\u001b[1;32mc:\\PythonTest\\Python_note\\myPractice\\HangmanTest.ipynb Cell 1\u001b[0m line \u001b[0;36m1\n\u001b[0;32m      <a href='vscode-notebook-cell:/c%3A/PythonTest/Python_note/myPractice/HangmanTest.ipynb#W0sZmlsZQ%3D%3D?line=5'>6</a>\u001b[0m     \u001b[39mself\u001b[39m\u001b[39m.\u001b[39mstatus \u001b[39m=\u001b[39m \u001b[39m'\u001b[39m\u001b[39mplaying\u001b[39m\u001b[39m'\u001b[39m \u001b[39m#시작 여부\u001b[39;00m\n\u001b[0;32m      <a href='vscode-notebook-cell:/c%3A/PythonTest/Python_note/myPractice/HangmanTest.ipynb#W0sZmlsZQ%3D%3D?line=7'>8</a>\u001b[0m   \u001b[39m# def finished(self):\u001b[39;00m\n\u001b[0;32m      <a href='vscode-notebook-cell:/c%3A/PythonTest/Python_note/myPractice/HangmanTest.ipynb#W0sZmlsZQ%3D%3D?line=8'>9</a>\u001b[0m   \u001b[39m#   self.word.\u001b[39;00m\n\u001b[0;32m     <a href='vscode-notebook-cell:/c%3A/PythonTest/Python_note/myPractice/HangmanTest.ipynb#W0sZmlsZQ%3D%3D?line=9'>10</a>\u001b[0m \n\u001b[0;32m     <a href='vscode-notebook-cell:/c%3A/PythonTest/Python_note/myPractice/HangmanTest.ipynb#W0sZmlsZQ%3D%3D?line=10'>11</a>\u001b[0m   \u001b[39m# def calculateStatus(self):\u001b[39;00m\n\u001b[0;32m     <a href='vscode-notebook-cell:/c%3A/PythonTest/Python_note/myPractice/HangmanTest.ipynb#W0sZmlsZQ%3D%3D?line=11'>12</a>\u001b[0m   \u001b[39m#   finished = self.word.every((letter) -> self.guessedLetters.includes(letter))\u001b[39;00m\n\u001b[1;32m---> <a href='vscode-notebook-cell:/c%3A/PythonTest/Python_note/myPractice/HangmanTest.ipynb#W0sZmlsZQ%3D%3D?line=13'>14</a>\u001b[0m game1 \u001b[39m=\u001b[39m Hangman(\u001b[39m\"\u001b[39;49m\u001b[39mb\u001b[39;49m\u001b[39m\"\u001b[39;49m,\u001b[39m\"\u001b[39;49m\u001b[39mdo\u001b[39;49m\u001b[39m\"\u001b[39;49m)\n\u001b[0;32m     <a href='vscode-notebook-cell:/c%3A/PythonTest/Python_note/myPractice/HangmanTest.ipynb#W0sZmlsZQ%3D%3D?line=14'>15</a>\u001b[0m \u001b[39mprint\u001b[39m(\u001b[39mf\u001b[39m\u001b[39m\"\u001b[39m\u001b[39mgame1 : \u001b[39m\u001b[39m{\u001b[39;00mgame1\u001b[39m}\u001b[39;00m\u001b[39m\"\u001b[39m)\n",
      "\u001b[1;32mc:\\PythonTest\\Python_note\\myPractice\\HangmanTest.ipynb Cell 1\u001b[0m line \u001b[0;36m3\n\u001b[0;32m      <a href='vscode-notebook-cell:/c%3A/PythonTest/Python_note/myPractice/HangmanTest.ipynb#W0sZmlsZQ%3D%3D?line=1'>2</a>\u001b[0m \u001b[39mdef\u001b[39;00m \u001b[39m__init__\u001b[39m(\u001b[39mself\u001b[39m,word,remainingGuesses):\n\u001b[1;32m----> <a href='vscode-notebook-cell:/c%3A/PythonTest/Python_note/myPractice/HangmanTest.ipynb#W0sZmlsZQ%3D%3D?line=2'>3</a>\u001b[0m   \u001b[39mself\u001b[39m\u001b[39m.\u001b[39mword \u001b[39m=\u001b[39m word\u001b[39m.\u001b[39;49mtoLowerCase()\u001b[39m.\u001b[39msplit(\u001b[39m'\u001b[39m\u001b[39m'\u001b[39m)\n\u001b[0;32m      <a href='vscode-notebook-cell:/c%3A/PythonTest/Python_note/myPractice/HangmanTest.ipynb#W0sZmlsZQ%3D%3D?line=3'>4</a>\u001b[0m   \u001b[39mself\u001b[39m\u001b[39m.\u001b[39mremainingGuesses \u001b[39m=\u001b[39m remainingGuesses\n\u001b[0;32m      <a href='vscode-notebook-cell:/c%3A/PythonTest/Python_note/myPractice/HangmanTest.ipynb#W0sZmlsZQ%3D%3D?line=4'>5</a>\u001b[0m   \u001b[39mself\u001b[39m\u001b[39m.\u001b[39mguessedLetters \u001b[39m=\u001b[39m [\u001b[39m'\u001b[39m\u001b[39mabcde\u001b[39m\u001b[39m'\u001b[39m]\n",
      "\u001b[1;31mAttributeError\u001b[0m: 'str' object has no attribute 'toLowerCase'"
     ]
    }
   ],
   "source": [
    "class Hangman():\n",
    "  def __init__(self,word,remainingGuesses):\n",
    "    self.word = word.toLowerCase().split('')\n",
    "    self.remainingGuesses = remainingGuesses\n",
    "    self.guessedLetters = ['abcde']\n",
    "    self.status = 'playing' #시작 여부\n",
    "\n",
    "  # def finished(self):\n",
    "  #   self.word.\n",
    "\n",
    "  # def calculateStatus(self):\n",
    "  #   finished = self.word.every((letter) -> self.guessedLetters.includes(letter))\n",
    "\n",
    "game1 = Hangman(\"b\",\"do\")\n",
    "print(f\"game1 : {game1}\")\n",
    "  "
   ]
  }
 ],
 "metadata": {
  "kernelspec": {
   "display_name": "Python 3",
   "language": "python",
   "name": "python3"
  },
  "language_info": {
   "codemirror_mode": {
    "name": "ipython",
    "version": 3
   },
   "file_extension": ".py",
   "mimetype": "text/x-python",
   "name": "python",
   "nbconvert_exporter": "python",
   "pygments_lexer": "ipython3",
   "version": "3.12.0"
  }
 },
 "nbformat": 4,
 "nbformat_minor": 2
}
