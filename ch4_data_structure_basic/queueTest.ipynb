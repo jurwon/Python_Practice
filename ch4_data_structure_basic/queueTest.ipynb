{
 "cells": [
  {
   "cell_type": "code",
   "execution_count": 1,
   "metadata": {},
   "outputs": [
    {
     "name": "stdout",
     "output_type": "stream",
     "text": [
      "result 조회해보기 : ['안', '녕', '하', '세', '요']\n",
      "word 조회해보기 : [::-1] : 안녕하세요\n"
     ]
    }
   ],
   "source": [
    "#list를 함수, pop(), push() 이용해서 큐처럼 사용해보기\n",
    "word = input(\"문자열 입력해주세요 : \")\n",
    "\n",
    "word_list = list(word)\n",
    "\n",
    "#임시로 저장할 빈 리스트\n",
    "result = []\n",
    "for _ in range(len(word)):\n",
    "  result.append(word_list.pop(0))\n",
    "\n",
    "#stack을 이용한 출력\n",
    "print(f\"result 조회해보기 : {result}\")\n",
    "#단순 슬라이싱 출력\n",
    "print(f\"word 조회해보기 : [::1] : {word[::1]}\")"
   ]
  }
 ],
 "metadata": {
  "kernelspec": {
   "display_name": "Python 3",
   "language": "python",
   "name": "python3"
  },
  "language_info": {
   "codemirror_mode": {
    "name": "ipython",
    "version": 3
   },
   "file_extension": ".py",
   "mimetype": "text/x-python",
   "name": "python",
   "nbconvert_exporter": "python",
   "pygments_lexer": "ipython3",
   "version": "3.12.0"
  }
 },
 "nbformat": 4,
 "nbformat_minor": 2
}
