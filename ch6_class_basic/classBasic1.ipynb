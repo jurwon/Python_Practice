{
 "cells": [
  {
   "cell_type": "code",
   "execution_count": 5,
   "metadata": {},
   "outputs": [
    {
     "name": "stdout",
     "output_type": "stream",
     "text": [
      "hi, 이름 : sjw, 나이 : 26, 이메일 : sjw@naver.com\n"
     ]
    }
   ],
   "source": [
    "class Person():\n",
    "  def __init__(self,name,age,email):\n",
    "    self.name = name\n",
    "    self.age = age\n",
    "    self.email = email\n",
    "  \n",
    "  def change_email(self,newEmail):\n",
    "    self.email = newEmail\n",
    "    print(f\"변경한 이메일 : {newEmail}\")\n",
    "  \n",
    "  def __str__(self):\n",
    "    return f\"hi, 이름 : {self.name}, 나이 : {self.age}, 이메일 : {self.email}\"\n",
    "  \n",
    "\n",
    "person1 = Person(\"sjw\",26,\"sjw@naver.com\")\n",
    "print(person1)"
   ]
  }
 ],
 "metadata": {
  "kernelspec": {
   "display_name": "Python 3",
   "language": "python",
   "name": "python3"
  },
  "language_info": {
   "codemirror_mode": {
    "name": "ipython",
    "version": 3
   },
   "file_extension": ".py",
   "mimetype": "text/x-python",
   "name": "python",
   "nbconvert_exporter": "python",
   "pygments_lexer": "ipython3",
   "version": "3.12.0"
  }
 },
 "nbformat": 4,
 "nbformat_minor": 2
}
