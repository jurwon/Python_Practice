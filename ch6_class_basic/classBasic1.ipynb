{
 "cells": [
  {
   "cell_type": "code",
   "execution_count": 12,
   "metadata": {},
   "outputs": [
    {
     "name": "stdout",
     "output_type": "stream",
     "text": [
      "hi, 이름 : sjw, 나이 : 26, 이메일 : sjw@naver.com\n",
      "변경한 이메일 : 1234@naver.com\n",
      "hi, 이름 : sjw, 나이 : 26, 이메일 : 1234@naver.com\n",
      "person2 : hi, 이름 : 자식1, 나이 : 20, 이메일 : 자식1@naver.com\n",
      "person3 : hi, 이름 : 자식2, 나이 : 25, 이메일 : 자식2@naver.com, 취미 : 클라이밍\n"
     ]
    }
   ],
   "source": [
    "#class\n",
    "class Person():\n",
    "  def __init__(self,name,age,email):\n",
    "    self.name = name\n",
    "    self.age = age\n",
    "    self.email = email\n",
    "  \n",
    "  def change_email(self,newEmail):\n",
    "    self.email = newEmail\n",
    "    print(f\"변경한 이메일 : {newEmail}\")\n",
    "  \n",
    "  def __str__(self):\n",
    "    return f\"hi, 이름 : {self.name}, 나이 : {self.age}, 이메일 : {self.email}\"\n",
    "  \n",
    "\n",
    "person1 = Person(\"sjw\",26,\"sjw@naver.com\")\n",
    "print(person1)\n",
    "\n",
    "\n",
    "#이메일 변경해보기\n",
    "person1.change_email(\"1234@naver.com\")\n",
    "print(person1)\n",
    "\n",
    "#상속\n",
    "#자식 클래스1\n",
    "class Child(Person):\n",
    "  pass\n",
    "\n",
    "#자식 클래스2\n",
    "class Child2(Person):\n",
    "  def __init__(self, name, age, email,hobby):\n",
    "    super().__init__(name, age, email)\n",
    "    self.hobby = hobby\n",
    "  \n",
    "  def show_hobby(self):\n",
    "    print(f\"My hobby is {self.hobby}\")\n",
    "\n",
    "  def __str__(self):\n",
    "    return super().__str__() + f\", 취미 : {self.hobby}\"\n",
    "\n",
    "  \n",
    "\n",
    "person2 = Child(\"자식1\",20,\"자식1@naver.com\")\n",
    "print(f\"person2 : {person2}\")\n",
    "\n",
    "person3 = Child2(\"자식2\",25,\"자식2@naver.com\",\"클라이밍\")\n",
    "print(f\"person3 : {person3}\")"
   ]
  },
  {
   "cell_type": "code",
   "execution_count": 20,
   "metadata": {},
   "outputs": [
    {
     "name": "stdout",
     "output_type": "stream",
     "text": [
      "동물 이름: 야옹1, 소리 : 야옹\n",
      "동물 이름: 야옹2, 소리 : 야옹\n",
      "동물 이름: 멍멍1, 소리 : 멍멍\n",
      "동물 이름: 멍멍2, 소리 : 멍멍\n",
      "동물 이름: 키키1, 소리 : 키키\n"
     ]
    }
   ],
   "source": [
    "#다형성 테스트\n",
    "class Animal:\n",
    "  def __init__(self,name):\n",
    "    self.name = name \n",
    "  def talk(self):\n",
    "    # NotImplementedError : 자식 클래스에만 해당 함수를 사용할수 있다. \n",
    "    raise NotImplementedError(\"Subclass must implement abstract method\")\n",
    "  \n",
    "#\n",
    "class Cat(Animal):\n",
    "  def talk(self):\n",
    "    return \"야옹\"\n",
    "\n",
    "class Dog(Animal):\n",
    "  def talk(self):\n",
    "    return \"멍멍\"\n",
    "\n",
    "# 상속 받은 클래스에서만, talk 함수 사용여부 확인.\n",
    "class Mongkey():\n",
    "  def __init__(self,name):\n",
    "    self.name = name\n",
    "    \n",
    "  def talk(self):\n",
    "    return \"키키\"\n",
    "    \n",
    "animals = [Cat(\"야옹1\"),Cat(\"야옹2\"), Dog(\"멍멍1\"),Dog(\"멍멍2\"),Mongkey(\"키키1\")]\n",
    "\n",
    "for animal in animals:\n",
    "  print(f\"동물 이름: {animal.name}, 소리 : {animal.talk()}\")"
   ]
  },
  {
   "cell_type": "code",
   "execution_count": 22,
   "metadata": {},
   "outputs": [
    {
     "name": "stdout",
     "output_type": "stream",
     "text": [
      "new item added\n",
      "new item added\n",
      "my_inventory.__items조회 : [<__main__.Product object at 0x0000027289354A70>, <__main__.Product object at 0x00000272894C3C50>]\n"
     ]
    }
   ],
   "source": [
    "# 가시성 테스트 \n",
    "# : 객체의 정보를 볼 수 있는 레벨 조절 (=캡슐화, 정보은닉)\n",
    "class Product(object):\n",
    "  pass \n",
    "\n",
    "class Inventory(object):\n",
    "  # 생성자\n",
    "  def __init__(self):\n",
    "    self.__items = []\n",
    "\n",
    "  #외부에서 접근가능하게 @property속성 활용\n",
    "  @property\n",
    "  def items(self):\n",
    "    return self.__items\n",
    "  \n",
    "  \n",
    "  # 아이템 추가 함수\n",
    "  def add_new_item (self,product):\n",
    "    if type(product) == Product:\n",
    "      self.__items.append(product)\n",
    "      print(f\"new item added\")\n",
    "    else:\n",
    "      raise ValueError(\"Invalid Item\")\n",
    "    \n",
    "  # 아이템 번호 확인 함수.  \n",
    "  def get_number_of_items(self):\n",
    "    return len(self.__items)\n",
    "\n",
    "# 클래스 사용 \n",
    "my_inventory = Inventory()\n",
    "my_inventory.add_new_item(Product())\n",
    "my_inventory.add_new_item(Product())\n",
    "\n",
    "print(f\"my_inventory.__items조회 : {my_inventory.items}\")"
   ]
  }
 ],
 "metadata": {
  "kernelspec": {
   "display_name": "Python 3",
   "language": "python",
   "name": "python3"
  },
  "language_info": {
   "codemirror_mode": {
    "name": "ipython",
    "version": 3
   },
   "file_extension": ".py",
   "mimetype": "text/x-python",
   "name": "python",
   "nbconvert_exporter": "python",
   "pygments_lexer": "ipython3",
   "version": "3.12.0"
  }
 },
 "nbformat": 4,
 "nbformat_minor": 2
}
