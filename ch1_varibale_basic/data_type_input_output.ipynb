{
 "cells": [
  {
   "cell_type": "code",
   "execution_count": 14,
   "metadata": {},
   "outputs": [
    {
     "name": "stdout",
     "output_type": "stream",
     "text": [
      "기본 출력 방식 이름 :  손주원 나이 :  20 키 :  170.222\n",
      "기본 출력 방식2, 이름 : 손주원\n",
      "기본 출력 방식2, 나이 : 20\n",
      "기본 출력 방식2, 키 : 170.222000\n",
      "기본 출력 방식2 : 20, 170.222000,손주원\n",
      "이름 : 손주원, 나이 : 20, 키: 170.222\n"
     ]
    }
   ],
   "source": [
    "name = \"손주원\"\n",
    "age = 20\n",
    "height = 170.222\n",
    "\n",
    "#기본출력 1\n",
    "print(\"기본 출력 방식\",\"이름 : \", name,\"나이 : \",age,\"키 : \",height)\n",
    "\n",
    "#기본출력2\n",
    "print(\"기본 출력 방식2, 이름 : %s\" % (name))\n",
    "print(\"기본 출력 방식2, 나이 : %d\" % (age))\n",
    "print(\"기본 출력 방식2, 키 : %f\" % (height))\n",
    "\n",
    "#print(\"기본 출력 방식2 : %d, %f,%s\" % (age, height,name))\n",
    "\n",
    "#기본출력3\n",
    "print(f\"이름 : {name}, 나이 : {age}, 키: {height}\")"
   ]
  },
  {
   "cell_type": "code",
   "execution_count": 20,
   "metadata": {},
   "outputs": [
    {
     "name": "stdout",
     "output_type": "stream",
     "text": [
      "a의 타입의 결과 : <class 'str'>\n",
      "b의 타입의 결과 : <class 'int'>\n",
      "c 의 타입의 결과 : <class 'str'>\n"
     ]
    }
   ],
   "source": [
    "#정수, 실수, 문자열 각각 변환 및 입력 받아보기\n",
    "num1 = 20\n",
    "str1 = \"sjw\"\n",
    "str2 = \"20\"\n",
    "flo1 = 12.133\n",
    "#정수-> 문자열 반환\n",
    "a = str(num1)\n",
    "print(f\"a의 타입의 결과 : {type(a)}\")\n",
    "\n",
    "#문자열-> 정수 반환\n",
    "b = int(str2)\n",
    "print(f\"b의 타입의 결과 : {type(b)}\")\n",
    "\n",
    "#input() 표준 입력\n",
    "c = input(\"본인이 좋아하는 숫자(1~5선택) : \")\n",
    "print(f\"c 의 타입의 결과 : {type(c)}\")"
   ]
  }
 ],
 "metadata": {
  "kernelspec": {
   "display_name": "Python 3",
   "language": "python",
   "name": "python3"
  },
  "language_info": {
   "codemirror_mode": {
    "name": "ipython",
    "version": 3
   },
   "file_extension": ".py",
   "mimetype": "text/x-python",
   "name": "python",
   "nbconvert_exporter": "python",
   "pygments_lexer": "ipython3",
   "version": "3.12.0"
  }
 },
 "nbformat": 4,
 "nbformat_minor": 2
}
