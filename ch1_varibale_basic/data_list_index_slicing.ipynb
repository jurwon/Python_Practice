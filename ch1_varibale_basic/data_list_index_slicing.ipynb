{
 "cells": [
  {
   "cell_type": "code",
   "execution_count": 6,
   "metadata": {},
   "outputs": [
    {
     "name": "stdout",
     "output_type": "stream",
     "text": [
      "리스트 출력 해보기 : [1, 2, 3, 4.5, '손주원']\n",
      "alist의 타입 : <class 'list'>\n",
      "a의 타입 : <class 'int'>\n",
      "인덱싱 : 0번째 요소 : 1\n",
      "슬라이싱 : [0:3] : [1, 2, 3]\n",
      "슬라이싱 : 전체 출력 [:]: [1, 2, 3, 4.5, '손주원']\n",
      "슬라이싱 : 전체 출력 [::1]: [1, 2, 3, 4.5, '손주원']\n",
      "슬라이싱 : 전체 출력 [::2]: [1, 3, '손주원']\n",
      "슬라이싱 : 전체 출력(감소) [::-1]: ['손주원', 4.5, 3, 2, 1]\n",
      "슬라이싱 : 전체 출력(감소) [::-2]: ['손주원', 3, 1]\n",
      "슬라이싱 : 전체 출력(감소) [2:-1]: [3, 4.5]\n"
     ]
    }
   ],
   "source": [
    "#리스트, 주의, 다른 형끼리 가능.\n",
    "alist = [1,2,3,4.5,\"손주원\"]\n",
    "\n",
    "print(f\"리스트 출력 해보기 : {alist}\")\n",
    "print(f\"alist의 타입 : {type(alist)}\")\n",
    "\n",
    "a=3\n",
    "print(f\"a의 타입 : {type(a)}\")\n",
    "\n",
    "#인덱싱, 슬라이싱 [a:b:c] , a:시작값,  b:마지막값, c:증가값\n",
    "# b마지막 값은 포함이 안됨\n",
    "#리버스 인덱싱, 요소의 맨 마지막이 -1부터 시작\n",
    "print(f\"인덱싱 : 0번째 요소 : {alist[0]}\")\n",
    "\n",
    "#슬라이싱\n",
    "print(f\"슬라이싱 : [0:3] : {alist[0:3]}\")\n",
    "print(f\"슬라이싱 : 전체 출력 [:]: {alist[:]}\")\n",
    "print(f\"슬라이싱 : 전체 출력 [::1]: {alist[::1]}\")\n",
    "print(f\"슬라이싱 : 전체 출력 [::2]: {alist[::2]}\")\n",
    "\n",
    "print(f\"슬라이싱 : 전체 출력(감소) [::-1]: {alist[::-1]}\")\n",
    "print(f\"슬라이싱 : 전체 출력(감소) [::-2]: {alist[::-2]}\")\n",
    "\n",
    "print(f\"슬라이싱 : 전체 출력(감소) [2:-1]: {alist[2:-1]}\")\n",
    "\n"
   ]
  },
  {
   "cell_type": "code",
   "execution_count": 10,
   "metadata": {},
   "outputs": [
    {
     "name": "stdout",
     "output_type": "stream",
     "text": [
      "sumList : [1, 2, 3, 4.5, '손주원', 1, 2, 3, 4.5, '손주원']\n",
      "multiList : [1, 2, 3, 4.5, '손주원', 1, 2, 3, 4.5, '손주원', 1, 2, 3, 4.5, '손주원']\n",
      "alist중 3이 존재? : True\n"
     ]
    }
   ],
   "source": [
    "#리스트 덧셈, 곱셈, in연산자\n",
    "alist = [1,2,3,4.5,\"손주원\"]\n",
    "sumList = alist+alist\n",
    "multiList = alist*3\n",
    "print(f\"sumList : {sumList}\")\n",
    "print(f\"multiList : {multiList}\")\n",
    "\n",
    "#int연산자\n",
    "print(f\"alist중 3이 존재? : {3 in alist}\")"
   ]
  },
  {
   "cell_type": "code",
   "execution_count": 12,
   "metadata": {},
   "outputs": [
    {
     "name": "stdout",
     "output_type": "stream",
     "text": [
      "a 리스트 : [1, 2, 3], x:1, y:2, z:3\n"
     ]
    }
   ],
   "source": [
    "#패킹, 언패킹\n",
    "#react의 비구조화 할당과 유사\n",
    "a = [1,2,3]\n",
    "x,y,z = a\n",
    "print(f\"a 리스트 : {a}, x:{x}, y:{y}, z:{z}\")"
   ]
  },
  {
   "cell_type": "code",
   "execution_count": 13,
   "metadata": {},
   "outputs": [
    {
     "name": "stdout",
     "output_type": "stream",
     "text": [
      "alist와 blist 메모리 주소값 비교 : False\n"
     ]
    }
   ],
   "source": [
    "#리스트 요소의 메모리 위치 저장소 간단히 확인\n",
    "alist = [1,2,3,4,5]\n",
    "blist = [6,7,8,9,10]\n",
    "\n",
    "print(f\"alist와 blist 메모리 주소값 비교 : {alist is blist}\")\n"
   ]
  },
  {
   "cell_type": "code",
   "execution_count": 14,
   "metadata": {},
   "outputs": [
    {
     "name": "stdout",
     "output_type": "stream",
     "text": [
      "a : [10, 11, 12, 13, 14]\n",
      "b : [5, 4, 3, 2, 1]\n"
     ]
    }
   ],
   "source": [
    "#배열 주소\n",
    "a = [5,4,3,2,1]\n",
    "b = [6,7,8,9,10]\n",
    "\n",
    "#b의 메모리 포인터 -> a의 포인터로 변경\n",
    "b = a\n",
    "\n",
    "#a의 포인터가 가리키는 위치 변경\n",
    "a = [10,11,12,13,14]\n",
    "\n",
    "print(f\"a : {a}\")\n",
    "print(f\"b : {b}\")\n",
    "\n"
   ]
  }
 ],
 "metadata": {
  "kernelspec": {
   "display_name": "Python 3",
   "language": "python",
   "name": "python3"
  },
  "language_info": {
   "codemirror_mode": {
    "name": "ipython",
    "version": 3
   },
   "file_extension": ".py",
   "mimetype": "text/x-python",
   "name": "python",
   "nbconvert_exporter": "python",
   "pygments_lexer": "ipython3",
   "version": "3.12.0"
  }
 },
 "nbformat": 4,
 "nbformat_minor": 2
}
